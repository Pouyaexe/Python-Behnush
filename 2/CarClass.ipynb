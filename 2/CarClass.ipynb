{
 "cells": [
  {
   "cell_type": "markdown",
   "metadata": {},
   "source": [
    "Car Class\n",
    "Create a Python class called Car with the following attributes and methods:\n",
    "Attributes:\n",
    "\n",
    "make: a string representing the make of the car (e.g. \"Toyota\", \"Ford\")\n",
    "model: a string representing the model of the car (e.g. \"Camry\", \"Fiesta\")\n",
    "year: an integer representing the year of the car (e.g. 2010, 2022)\n",
    "speed: an integer representing the current speed of the car in miles per hour (mph)\n",
    "speed_data: a list containing the speed data of the car as it changes over time (initially empty)\n",
    "\n",
    "Methods:\n",
    "\n",
    "accelerate(delta): increase the speed of the car by delta mph and add the new speed to the speed data list\n",
    "brake(delta): decrease the speed of the car by delta mph and add the new speed to the speed data list\n",
    "display_speed_data(): display the speed data list in a formatted way\n",
    "display_details(): display the details of the car (make, model, year, and current speed) in a formatted way\n",
    "\n",
    "car = Car(\"Toyota\", \"Camry\", 2020, 0)\n",
    "car.accelerate(20)\n",
    "car.accelerate(10)\n",
    "car.brake(5)\n",
    "car.accelerate(15)\n",
    "car.display_speed_data()\n",
    "car.display_details()\n",
    "\n",
    "Speed data for Toyota Camry 2020:\n",
    "- 0 mph \n",
    "- 20 mph\n",
    "- 30 mph\n",
    "- 25 mph\n",
    "- 40 mph\n",
    "Details of Toyota Camry 2020:\n",
    "- Make: Toyota\n",
    "- Model: Camry\n",
    "- Year: 2020\n",
    "- Current speed: 40 mph"
   ]
  },
  {
   "cell_type": "code",
   "execution_count": 3,
   "metadata": {},
   "outputs": [
    {
     "name": "stdout",
     "output_type": "stream",
     "text": [
      "[2, 3]\n"
     ]
    }
   ],
   "source": [
    "def my_func(my_num:list): # Type hinting\n",
    "    print(my_num)\n",
    "my_func([2,3])"
   ]
  },
  {
   "cell_type": "code",
   "execution_count": 5,
   "metadata": {},
   "outputs": [],
   "source": [
    "class Car:\n",
    "    def __init__(self,make:str, model:str, year:int, speed:int = 0) -> None:\n",
    "        \"\"\"This is a simple rep. of a car\n",
    "\n",
    "        Args:\n",
    "            make (str): a string representing the make of the car\n",
    "            model (str): _description_\n",
    "            year (int): _description_\n",
    "            speed (int): _description_\n",
    "        \"\"\"\n",
    "        self.make = make\n",
    "        self.model = model\n",
    "        self.year = year\n",
    "        self.speed = speed\n",
    "        self.speed_data = []\n",
    "        \n",
    "    def accelerate(self, delta):\n",
    "        self.speed += delta\n",
    "        self.speed_data.append(self.speed)\n",
    "    \n",
    "    def brake(self, delta):\n",
    "        if delta not in range(0,1):    \n",
    "            self.speed -= delta\n",
    "            if self.speed < 0: # -30\n",
    "                self.speed = 0        \n",
    "            self.speed_data.append(self.speed)\n",
    "\n",
    "    def display_speed_data(self):\n",
    "        print(f\"Speed data for {self.make} {self.model} {self.year}:\")\n",
    "        for data in self.speed_data:\n",
    "            print(f\"- {data}\")\n",
    "    \n",
    "    def display_details(self):\n",
    "        print(f\"Details of {self.make} {self.model} {self.year}:\")\n",
    "        print(f\"- Make: {self.make}\")\n",
    "        print(f\"- Model: {self.model}\")\n",
    "        print(f\"- Year: {self.year}\")\n",
    "        print(f\"- Current speed: {self.speed} mph\")\n",
    "    "
   ]
  },
  {
   "cell_type": "code",
   "execution_count": 6,
   "metadata": {},
   "outputs": [],
   "source": [
    "car1 = Car(\"Toyota\", \"Camry\", 2020)"
   ]
  },
  {
   "cell_type": "code",
   "execution_count": 14,
   "metadata": {},
   "outputs": [],
   "source": [
    "car1.accelerate(20)"
   ]
  },
  {
   "cell_type": "code",
   "execution_count": 12,
   "metadata": {},
   "outputs": [],
   "source": [
    "car1.accelerate(30)"
   ]
  },
  {
   "cell_type": "code",
   "execution_count": 16,
   "metadata": {},
   "outputs": [],
   "source": [
    "car1.brake(15)"
   ]
  },
  {
   "cell_type": "code",
   "execution_count": 17,
   "metadata": {},
   "outputs": [],
   "source": [
    "car1.brake(8)"
   ]
  },
  {
   "cell_type": "code",
   "execution_count": 19,
   "metadata": {},
   "outputs": [
    {
     "name": "stdout",
     "output_type": "stream",
     "text": [
      "Speed data for Toyota Camry 2020:\n",
      "- 20\n",
      "- 50\n",
      "- 70\n",
      "- 55\n",
      "- 47\n"
     ]
    }
   ],
   "source": [
    "car1.display_speed_data()"
   ]
  },
  {
   "cell_type": "code",
   "execution_count": 20,
   "metadata": {},
   "outputs": [
    {
     "name": "stdout",
     "output_type": "stream",
     "text": [
      "Details of Toyota Camry 2020:\n",
      "- Make: Toyota\n",
      "- Model: Camry\n",
      "- Year: 2020\n",
      "- Current speed: 47 mph\n"
     ]
    }
   ],
   "source": [
    "car1.display_details()"
   ]
  },
  {
   "cell_type": "code",
   "execution_count": 24,
   "metadata": {},
   "outputs": [],
   "source": [
    "car1.brake(50)"
   ]
  },
  {
   "cell_type": "code",
   "execution_count": 38,
   "metadata": {},
   "outputs": [
    {
     "name": "stdout",
     "output_type": "stream",
     "text": [
      "Speed data for Toyota GT86 2020:\n",
      "- 20\n",
      "- 50\n",
      "- 70\n",
      "- 55\n",
      "- 47\n",
      "- 0\n",
      "- 0\n"
     ]
    }
   ],
   "source": [
    "car1.display_speed_data()"
   ]
  },
  {
   "cell_type": "code",
   "execution_count": 36,
   "metadata": {},
   "outputs": [
    {
     "data": {
      "text/plain": [
       "[20, 50, 70, 55, 47, 0, 0]"
      ]
     },
     "execution_count": 36,
     "metadata": {},
     "output_type": "execute_result"
    }
   ],
   "source": [
    "car1.speed_data"
   ]
  },
  {
   "cell_type": "code",
   "execution_count": 37,
   "metadata": {},
   "outputs": [],
   "source": [
    "car1.model = \"GT86\""
   ]
  },
  {
   "cell_type": "code",
   "execution_count": 39,
   "metadata": {},
   "outputs": [],
   "source": [
    "car2 = Car(\"Ford\", \"F150\", 2021)\n"
   ]
  },
  {
   "cell_type": "code",
   "execution_count": 45,
   "metadata": {},
   "outputs": [],
   "source": [
    "my_list_of_cars = [car1, car2]"
   ]
  },
  {
   "cell_type": "code",
   "execution_count": 47,
   "metadata": {},
   "outputs": [],
   "source": [
    "def change_model_year(list_of_cars):\n",
    "    for car in list_of_cars:\n",
    "        car.year = 2025\n",
    "    return list_of_cars\n"
   ]
  },
  {
   "cell_type": "markdown",
   "metadata": {},
   "source": []
  },
  {
   "cell_type": "code",
   "execution_count": 48,
   "metadata": {},
   "outputs": [],
   "source": [
    "my_list_of_cars_new = change_model_year(list_of_cars=my_list_of_cars)"
   ]
  },
  {
   "cell_type": "code",
   "execution_count": 52,
   "metadata": {},
   "outputs": [
    {
     "name": "stdout",
     "output_type": "stream",
     "text": [
      "[<__main__.Car object at 0x112b2b610>, <__main__.Car object at 0x120324e10>]\n",
      "Details of Toyota GT86 2025:\n",
      "- Make: Toyota\n",
      "- Model: GT86\n",
      "- Year: 2025\n",
      "- Current speed: 0 mph\n",
      "Details of Ford F150 2025:\n",
      "- Make: Ford\n",
      "- Model: F150\n",
      "- Year: 2025\n",
      "- Current speed: 0 mph\n"
     ]
    }
   ],
   "source": [
    "print(my_list_of_cars_new)\n",
    "for car in my_list_of_cars_new:\n",
    "    car.display_details()"
   ]
  }
 ],
 "metadata": {
  "kernelspec": {
   "display_name": "base",
   "language": "python",
   "name": "python3"
  },
  "language_info": {
   "codemirror_mode": {
    "name": "ipython",
    "version": 3
   },
   "file_extension": ".py",
   "mimetype": "text/x-python",
   "name": "python",
   "nbconvert_exporter": "python",
   "pygments_lexer": "ipython3",
   "version": "3.12.2"
  }
 },
 "nbformat": 4,
 "nbformat_minor": 2
}
