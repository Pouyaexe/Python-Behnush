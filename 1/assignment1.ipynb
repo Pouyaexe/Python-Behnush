{
 "cells": [
  {
   "cell_type": "markdown",
   "metadata": {},
   "source": [
    "# Assignment 1"
   ]
  },
  {
   "cell_type": "markdown",
   "metadata": {},
   "source": [
    "age = 12"
   ]
  },
  {
   "cell_type": "code",
   "execution_count": 8,
   "metadata": {},
   "outputs": [],
   "source": [
    "age = '12'"
   ]
  },
  {
   "cell_type": "code",
   "execution_count": 11,
   "metadata": {},
   "outputs": [
    {
     "data": {
      "text/plain": [
       "'12'"
      ]
     },
     "execution_count": 11,
     "metadata": {},
     "output_type": "execute_result"
    }
   ],
   "source": []
  },
  {
   "cell_type": "code",
   "execution_count": 24,
   "metadata": {},
   "outputs": [
    {
     "name": "stdout",
     "output_type": "stream",
     "text": [
      "Hi, my name is behnush and I am 24 years old\n"
     ]
    }
   ],
   "source": [
    "class Person:\n",
    "    def __init__(self, name: str, birthyear: int):\n",
    "        self.name = name\n",
    "        self.birthyear = birthyear\n",
    "\n",
    "        self.age = 2024 - self.birthyear\n",
    "\n",
    "    def greet(self, mention_age: bool = False):  # Initial Value = False\n",
    "        if mention_age:\n",
    "            print(f\"Hi, my name is {self.name} and I am {self.age} years old\")\n",
    "        else:\n",
    "            print(f\"Hi, my name is {self.name}\")\n",
    "\n",
    "\n",
    "person = Person(\"behnush\", 2000)\n",
    "person.greet(True)"
   ]
  },
  {
   "cell_type": "code",
   "execution_count": 29,
   "metadata": {},
   "outputs": [
    {
     "name": "stdout",
     "output_type": "stream",
     "text": [
      "Hi, my name is behnush and I am 24 years old\n"
     ]
    }
   ],
   "source": [
    "class Person:\n",
    "    def __init__(self, name: str, birthyear: int):\n",
    "        self.name = name\n",
    "        self.birthyear = birthyear\n",
    "        \n",
    "\n",
    "    def age(self):\n",
    "        # print(2024 - self.birthyear)\n",
    "        return 2024 - self.birthyear\n",
    "    \n",
    "    def greet(self, mention_age: bool = False):  # Initial Value = False\n",
    "        if mention_age:\n",
    "            print(f\"Hi, my name is {self.name} and I am {self.age()} years old\")\n",
    "        else:\n",
    "            print(f\"Hi, my name is {self.name}\")\n",
    "            \n",
    "            \n",
    "person = Person(\"behnush\", 2000)\n",
    "person.greet(True)\n",
    "# print(person.age())"
   ]
  },
  {
   "cell_type": "markdown",
   "metadata": {},
   "source": [
    "# Assignment 2"
   ]
  },
  {
   "cell_type": "markdown",
   "metadata": {},
   "source": [
    "Example input/output:\n",
    "\n",
    "rectangle = Rectangle(5, 7)\n",
    "print(rectangle.area())\n",
    ">>> 35\n",
    "\n",
    "print(rectangle.perimeter())\n",
    ">>> 24\n",
    "\n",
    "print(rectangle.is_square())\n",
    ">>> False\n",
    "\n",
    "square = Rectangle(6, 6)\n",
    "print(square.is_square())\n",
    ">>> True"
   ]
  },
  {
   "cell_type": "markdown",
   "metadata": {},
   "source": []
  },
  {
   "cell_type": "code",
   "execution_count": 36,
   "metadata": {},
   "outputs": [
    {
     "name": "stdout",
     "output_type": "stream",
     "text": [
      "1200\n",
      "100\n",
      "False\n"
     ]
    }
   ],
   "source": [
    "class Rectangle:\n",
    "    def __init__(self, width, height):\n",
    "        self.width = width\n",
    "        self.height = height\n",
    "\n",
    "    def perimeter(self):\n",
    "        return (self.width + self.height) * 2\n",
    "\n",
    "    def area(self):\n",
    "        return self.width * self.height\n",
    "\n",
    "    def is_square(self):\n",
    "        return self.width == self.height\n",
    "\n",
    "\n",
    "rectangle = Rectangle(30, 20)\n",
    "print(rectangle.area())\n",
    "print(rectangle.perimeter())\n",
    "print(rectangle.is_square())"
   ]
  },
  {
   "cell_type": "code",
   "execution_count": 37,
   "metadata": {},
   "outputs": [
    {
     "name": "stdout",
     "output_type": "stream",
     "text": [
      "True\n"
     ]
    }
   ],
   "source": [
    "square = Rectangle(6, 6)\n",
    "print(square.is_square())"
   ]
  },
  {
   "cell_type": "code",
   "execution_count": null,
   "metadata": {},
   "outputs": [
    {
     "name": "stdout",
     "output_type": "stream",
     "text": [
      " the erea is 80\n",
      "the perimeter is 400\n"
     ]
    },
    {
     "data": {
      "text/plain": [
       "True"
      ]
     },
     "execution_count": 77,
     "metadata": {},
     "output_type": "execute_result"
    },
    {
     "name": "stdout",
     "output_type": "stream",
     "text": [
      " the erea is 80\n",
      "the perimeter is 400\n"
     ]
    },
    {
     "data": {
      "text/plain": [
       "True"
      ]
     },
     "execution_count": 3,
     "metadata": {},
     "output_type": "execute_result"
    }
   ],
   "source": [
    "class rectangle:\n",
    "    def __init__(self,width,height):\n",
    "        self.width=width\n",
    "        self.height=height\n",
    "    def erea_perimeter(self):\n",
    "        erea=(self.width+self.height)*2\n",
    "        perimeter=(self.width*self.height)\n",
    "        print(f\" the erea is {erea}\")\n",
    "        print(f\"the perimeter is {perimeter}\")\n",
    "        if self.width==self.height:\n",
    "            return True\n",
    "             #print(\"True\")\n",
    "        else:\n",
    "            #print(\"False\")\n",
    "            return False\n",
    "        \n",
    "        \n",
    "        \n",
    "rectangle=rectangle(20,20)\n",
    "rectangle.erea_perimeter()\n"
   ]
  },
  {
   "cell_type": "markdown",
   "metadata": {},
   "source": [
    "# Assignment 3"
   ]
  },
  {
   "cell_type": "code",
   "execution_count": 6,
   "metadata": {},
   "outputs": [
    {
     "name": "stdout",
     "output_type": "stream",
     "text": [
      "the account number is: 1234 \n",
      " the current balance is: 1500\n",
      "the account number is: 1234 \n",
      " the current balance is: 1000\n",
      "the account number is: 1234 \n",
      " the current balance is: 1050.0\n"
     ]
    }
   ],
   "source": [
    "class BankAccount:\n",
    "    def __init__(self,balance,accountnumber,interest_rate):\n",
    "        self.balance=balance\n",
    "        self.accountnumber=accountnumber\n",
    "        self.interest_rate=interest_rate\n",
    "        self.amount=0\n",
    "    def deposit(self):\n",
    "        self.amount=int(input(\"give me the number\"))\n",
    "        self.balance+=self.amount\n",
    "        print(f\"the account number is: {self.accountnumber} \\n the current balance is: ${self.balance}\")\n",
    "    def withdrow(self):\n",
    "        self.amount=int(input(\"give me the number\"))\n",
    "        self.balance-=self.amount\n",
    "        if self.balance < self.amount:\n",
    "            print(\" Error: insufficient funds\")\n",
    "        else :\n",
    "            print(f\"the account number is: {self.accountnumber} \\n the current balance is: ${self.balance}\")\n",
    "            \n",
    "    def radd_interest(self):\n",
    "        rate=(self.balance*self.interest_rate)+self.balance\n",
    "        print(f\"the account number is: {self.accountnumber} \\n the current balance is: ${rate}\")\n",
    "        \n",
    "        \n",
    " \n",
    "                \n",
    "        \n",
    "\n",
    "        \n",
    "bankaccount = BankAccount(1000, 1234, 0.05)\n",
    "\n",
    "# Perform deposit and withdrawal operations\n",
    "bankaccount.deposit()\n",
    "bankaccount.withdrow()\n",
    "bankaccount.radd_interest()\n",
    "        \n",
    "        \n",
    "        \n",
    "    \n",
    "        \n",
    "        \n",
    "    \n",
    "        "
   ]
  }
 ],
 "metadata": {
  "kernelspec": {
   "display_name": "Python 3",
   "language": "python",
   "name": "python3"
  },
  "language_info": {
   "codemirror_mode": {
    "name": "ipython",
    "version": 3
   },
   "file_extension": ".py",
   "mimetype": "text/x-python",
   "name": "python",
   "nbconvert_exporter": "python",
   "pygments_lexer": "ipython3",
   "version": "3.11.0"
  },
  "orig_nbformat": 4
 },
 "nbformat": 4,
 "nbformat_minor": 2
}
