{
 "cells": [
  {
   "cell_type": "markdown",
   "metadata": {},
   "source": [
    "# Assignment 1"
   ]
  },
  {
   "cell_type": "markdown",
   "metadata": {},
   "source": [
    "age = 12"
   ]
  },
  {
   "cell_type": "code",
   "execution_count": 8,
   "metadata": {},
   "outputs": [],
   "source": [
    "age = '12'"
   ]
  },
  {
   "cell_type": "code",
   "execution_count": 11,
   "metadata": {},
   "outputs": [
    {
     "data": {
      "text/plain": [
       "'12'"
      ]
     },
     "execution_count": 11,
     "metadata": {},
     "output_type": "execute_result"
    }
   ],
   "source": []
  },
  {
   "cell_type": "code",
   "execution_count": 24,
   "metadata": {},
   "outputs": [
    {
     "name": "stdout",
     "output_type": "stream",
     "text": [
      "Hi, my name is behnush and I am 24 years old\n"
     ]
    }
   ],
   "source": [
    "class Person:\n",
    "    def __init__(self, name: str, birthyear: int):\n",
    "        self.name = name\n",
    "        self.birthyear = birthyear\n",
    "\n",
    "        self.age = 2024 - self.birthyear\n",
    "\n",
    "    def greet(self, mention_age: bool = False):  # Initial Value = False\n",
    "        if mention_age:\n",
    "            print(f\"Hi, my name is {self.name} and I am {self.age} years old\")\n",
    "        else:\n",
    "            print(f\"Hi, my name is {self.name}\")\n",
    "\n",
    "\n",
    "person = Person(\"behnush\", 2000)\n",
    "person.greet(True)"
   ]
  },
  {
   "cell_type": "code",
   "execution_count": 29,
   "metadata": {},
   "outputs": [
    {
     "name": "stdout",
     "output_type": "stream",
     "text": [
      "Hi, my name is behnush and I am 24 years old\n"
     ]
    }
   ],
   "source": [
    "class Person:\n",
    "    def __init__(self, name: str, birthyear: int):\n",
    "        self.name = name\n",
    "        self.birthyear = birthyear\n",
    "        \n",
    "\n",
    "    def age(self):\n",
    "        # print(2024 - self.birthyear)\n",
    "        return 2024 - self.birthyear\n",
    "    \n",
    "    def greet(self, mention_age: bool = False):  # Initial Value = False\n",
    "        if mention_age:\n",
    "            print(f\"Hi, my name is {self.name} and I am {self.age()} years old\")\n",
    "        else:\n",
    "            print(f\"Hi, my name is {self.name}\")\n",
    "            \n",
    "            \n",
    "person = Person(\"behnush\", 2000)\n",
    "person.greet(True)\n",
    "# print(person.age())"
   ]
  },
  {
   "cell_type": "markdown",
   "metadata": {},
   "source": [
    "# Assignment 2"
   ]
  },
  {
   "cell_type": "markdown",
   "metadata": {},
   "source": [
    "Example input/output:\n",
    "\n",
    "rectangle = Rectangle(5, 7)\n",
    "print(rectangle.area())\n",
    ">>> 35\n",
    "\n",
    "print(rectangle.perimeter())\n",
    ">>> 24\n",
    "\n",
    "print(rectangle.is_square())\n",
    ">>> False\n",
    "\n",
    "square = Rectangle(6, 6)\n",
    "print(square.is_square())\n",
    ">>> True"
   ]
  },
  {
   "cell_type": "code",
   "execution_count": 36,
   "metadata": {},
   "outputs": [
    {
     "name": "stdout",
     "output_type": "stream",
     "text": [
      "1200\n",
      "100\n",
      "False\n"
     ]
    }
   ],
   "source": [
    "class Rectangle:\n",
    "    def __init__(self, width, height):\n",
    "        self.width = width\n",
    "        self.height = height\n",
    "\n",
    "    def perimeter(self):\n",
    "        return (self.width + self.height) * 2\n",
    "\n",
    "    def area(self):\n",
    "        return self.width * self.height\n",
    "\n",
    "    def is_square(self):\n",
    "        return self.width == self.height\n",
    "\n",
    "\n",
    "rectangle = Rectangle(30, 20)\n",
    "print(rectangle.area())\n",
    "print(rectangle.perimeter())\n",
    "print(rectangle.is_square())"
   ]
  },
  {
   "cell_type": "code",
   "execution_count": 37,
   "metadata": {},
   "outputs": [
    {
     "name": "stdout",
     "output_type": "stream",
     "text": [
      "True\n"
     ]
    }
   ],
   "source": [
    "square = Rectangle(6, 6)\n",
    "print(square.is_square())"
   ]
  },
  {
   "cell_type": "code",
   "execution_count": null,
   "metadata": {},
   "outputs": [
    {
     "name": "stdout",
     "output_type": "stream",
     "text": [
      " the erea is 80\n",
      "the perimeter is 400\n"
     ]
    },
    {
     "data": {
      "text/plain": [
       "True"
      ]
     },
     "execution_count": 77,
     "metadata": {},
     "output_type": "execute_result"
    },
    {
     "name": "stdout",
     "output_type": "stream",
     "text": [
      " the erea is 80\n",
      "the perimeter is 400\n"
     ]
    },
    {
     "data": {
      "text/plain": [
       "True"
      ]
     },
     "execution_count": 3,
     "metadata": {},
     "output_type": "execute_result"
    }
   ],
   "source": [
    "class rectangle:\n",
    "    def __init__(self,width,height):\n",
    "        self.width=width\n",
    "        self.height=height\n",
    "    def erea_perimeter(self):\n",
    "        erea=(self.width+self.height)*2\n",
    "        perimeter=(self.width*self.height)\n",
    "        print(f\" the erea is {erea}\")\n",
    "        print(f\"the perimeter is {perimeter}\")\n",
    "        if self.width==self.height:\n",
    "            return True\n",
    "             #print(\"True\")\n",
    "        else:\n",
    "            #print(\"False\")\n",
    "            return False\n",
    "        \n",
    "        \n",
    "        \n",
    "rectangle=rectangle(20,20)\n",
    "rectangle.erea_perimeter()\n"
   ]
  },
  {
   "cell_type": "markdown",
   "metadata": {},
   "source": [
    "# Assignment 3"
   ]
  },
  {
   "cell_type": "code",
   "execution_count": 6,
   "metadata": {},
   "outputs": [
    {
     "name": "stdout",
     "output_type": "stream",
     "text": [
      "the account number is: 1234 \n",
      " the current balance is: 1500\n",
      "the account number is: 1234 \n",
      " the current balance is: 1000\n",
      "the account number is: 1234 \n",
      " the current balance is: 1050.0\n"
     ]
    }
   ],
   "source": [
    "\n",
    "class BankAccount:\n",
    "    def __init__(self,balance,accountnumber,interest_rate):\n",
    "        self.balance=balance\n",
    "        self.accountnumber=accountnumber\n",
    "        self.interest_rate=interest_rate\n",
    "        self.amount=0\n",
    "    def deposit(self):\n",
    "        self.amount=int(input(\"give me the number\"))\n",
    "        self.balance+=self.amount\n",
    "        print(f\"the account number is: {self.accountnumber} \\n the current balance is: ${self.balance}\")\n",
    "    def withdrow(self):\n",
    "        self.amount=int(input(\"give me the number\"))\n",
    "        self.balance-=self.amount\n",
    "        if self.balance < self.amount:\n",
    "            print(\" Error: insufficient funds\")\n",
    "        else :\n",
    "            print(f\"the account number is: {self.accountnumber} \\n the current balance is: ${self.balance}\")\n",
    "            \n",
    "    def radd_interest(self):\n",
    "        rate=(self.balance*self.interest_rate)+self.balance\n",
    "        print(f\"the account number is: {self.accountnumber} \\n the current balance is: ${rate}\")\n",
    "        \n",
    "        \n",
    " \n",
    "# Instnace 1              \n",
    "        \n",
    "bankaccount = BankAccount(1000, 1234, 0.05)\n",
    "bankaccount.balance\n",
    "\n",
    "# Perform deposit and withdrawal operations\n",
    "amount_to_add = int(input(\"Give me the amount you want to deposit...\"))\n",
    "bankaccount.deposit(amount_to_add)\n",
    "bankaccount.withdrow()\n",
    "bankaccount.radd_interest()\n",
    "\n",
    "# Instance 2\n",
    "\n",
    "account2 = BankAccount(102, 1251, 0.02)\n",
    "account2.balance = 565\n",
    "\n",
    "\n",
    "        \n",
    "        \n",
    "        \n",
    "    \n",
    "        \n",
    "        \n",
    "    \n",
    "        "
   ]
  },
  {
   "cell_type": "code",
   "execution_count": null,
   "metadata": {},
   "outputs": [],
   "source": [
    "class BankAccount():\n",
    "    def __init__(self, blance, account_number, intrest_rate) -> None:\n",
    "        self.balance = blance\n",
    "        self.account_number = account_number\n",
    "        self.intrest_rate = intrest_rate\n",
    "        \n",
    "    def deposit(self, amount):\n",
    "        self.balance += amount\n",
    "        # return self.balance\n",
    "    \n",
    "    def withdraw(self, amount):\n",
    "        if self.balance >= amount:\n",
    "            self.balance -= amount\n",
    "        else:\n",
    "            print(\"Insufficient amount\")\n",
    "    \n",
    "    def add_interest(self):\n",
    "        self.balance += self.intrest_rate * self.balance\n",
    "    \n",
    "    def display(self):\n",
    "        print(f\"Account Number: {self.account_number}\")\n",
    "        print(f\"Current balance: {self.balance}\")\n",
    "        "
   ]
  },
  {
   "cell_type": "markdown",
   "metadata": {},
   "source": [
    "Write a Python class called BankAccount with the following attributes and methods:\n",
    "\n",
    "Attributes:\n",
    "balance: a float representing the current balance of the account\n",
    "account_number: an integer representing the account number\n",
    "interest_rate: a float representing the annual interest rate for the account\n",
    "\n",
    "Methods:\n",
    "deposit(amount): add the given amount to the account balance\n",
    "withdraw(amount): subtract the given amount from the account balance (if the balance is insufficient, display an error message)\n",
    "add_interest(): add interest to the account balance based on the interest rate\n",
    "display(): display the current balance and account number\n",
    "\n",
    "Example input/output\n",
    "\n",
    "account1 = BankAccount(1000, 1234, 0.05)\n",
    "account1.display()\n",
    ">>> Account number: 1234\n",
    ">>> Current balance: $1000.00\n",
    "\n",
    "account1.deposit(500)\n",
    "account1.display()\n",
    ">>> Account number: 1234\n",
    ">>> Current balance: $1500.00\n",
    "\n",
    "account1.withdraw(2000)\n",
    ">>> Error: insufficient funds\n",
    "\n",
    "account1.withdraw(500)\n",
    "account1.display()\n",
    ">>> Account number: 1234\n",
    ">>> Current balance:  $1000.00\n",
    "\n",
    "account1.add_interest()\n",
    "account1.display()\n",
    ">>> Account number: 1234\n",
    ">>> Current balance: $1050.00"
   ]
  }
 ],
 "metadata": {
  "kernelspec": {
   "display_name": "Python 3",
   "language": "python",
   "name": "python3"
  },
  "language_info": {
   "codemirror_mode": {
    "name": "ipython",
    "version": 3
   },
   "file_extension": ".py",
   "mimetype": "text/x-python",
   "name": "python",
   "nbconvert_exporter": "python",
   "pygments_lexer": "ipython3",
   "version": "3.11.0"
  },
  "orig_nbformat": 4
 },
 "nbformat": 4,
 "nbformat_minor": 2
}
